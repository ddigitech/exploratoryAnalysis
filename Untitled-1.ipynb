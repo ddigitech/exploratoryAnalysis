{
 "cells": [
  {
   "cell_type": "code",
   "execution_count": 3,
   "metadata": {},
   "outputs": [
    {
     "name": "stdout",
     "output_type": "stream",
     "text": [
      "Index(['Time', 'QDEPTH: HIE.CDM_PSA_UPDATE_TOPIC_DEST, WMQC136',\n",
      "       'QDEPTH: HIE.CONN_ADT_A01_TOPIC_DEST, WMQC136',\n",
      "       'QDEPTH: HIE.CONN_ADT_A08_TOPIC_DEST, WMQC136',\n",
      "       'QDEPTH: HIE.CONN_HL7V2_OUTBOUND, WMQC136',\n",
      "       'QDEPTH: HIE.CONN_ORU_R01_LAB_TOPIC_DEST, WMQC136',\n",
      "       'QDEPTH: HIE.CONN_V2_TENANT_SPECIFIC_1, WMQC136',\n",
      "       'QDEPTH: HIE.CONN_V2_TENANT_SPECIFIC_2, WMQC136',\n",
      "       'QDEPTH: HIE.CONN_XDR_TENANT_SPECIFIC_1, WMQC136',\n",
      "       'QDEPTH: HIE.CONN_XDR_TENANT_SPECIFIC_2, WMQC136',\n",
      "       'QDEPTH: HIE.CS_AUDIT_QUEUE, WMQC136',\n",
      "       'QDEPTH: HIE.PES_QUEUE_1, WMQC136', 'QDEPTH: HIE.PES_QUEUE_2, WMQC136',\n",
      "       'QDEPTH: HIE.PES_QUEUE_3, WMQC136',\n",
      "       'QDEPTH: HIE.STG1.CONN_TOPIC_ORU_R01_LAB_CALCOVID, WMQC136'],\n",
      "      dtype='object')\n"
     ]
    },
    {
     "ename": "NameError",
     "evalue": "name 'features' is not defined",
     "output_type": "error",
     "traceback": [
      "\u001b[0;31m---------------------------------------------------------------------------\u001b[0m",
      "\u001b[0;31mNameError\u001b[0m                                 Traceback (most recent call last)",
      "\u001b[1;32m/Users/dhende63/exploratoryAnalysis/Untitled-1.ipynb Cell 1'\u001b[0m in \u001b[0;36m<cell line: 37>\u001b[0;34m()\u001b[0m\n\u001b[1;32m     <a href='vscode-notebook-cell:/Users/dhende63/exploratoryAnalysis/Untitled-1.ipynb#ch0000000?line=21'>22</a>\u001b[0m \u001b[39m#sns.countplot(x=\"Time\", hue=\"QDEPTH: HIE.CONN_ADT_A01_TOPIC_DEST, WMQC136\", data=df);\u001b[39;00m\n\u001b[1;32m     <a href='vscode-notebook-cell:/Users/dhende63/exploratoryAnalysis/Untitled-1.ipynb#ch0000000?line=22'>23</a>\u001b[0m \n\u001b[1;32m     <a href='vscode-notebook-cell:/Users/dhende63/exploratoryAnalysis/Untitled-1.ipynb#ch0000000?line=23'>24</a>\u001b[0m \u001b[39m#features = [\"Time\", \"QDEPTH: HIE.CONN_ADT_A01_TOPIC_DEST, WMQC136\"]\u001b[39;00m\n\u001b[0;32m   (...)\u001b[0m\n\u001b[1;32m     <a href='vscode-notebook-cell:/Users/dhende63/exploratoryAnalysis/Untitled-1.ipynb#ch0000000?line=29'>30</a>\u001b[0m \n\u001b[1;32m     <a href='vscode-notebook-cell:/Users/dhende63/exploratoryAnalysis/Untitled-1.ipynb#ch0000000?line=30'>31</a>\u001b[0m \u001b[39m#sns.boxplot(x=\"QDEPTH: HIE.CONN_ADT_A01_TOPIC_DEST, WMQC136\", data=df);\u001b[39;00m\n\u001b[1;32m     <a href='vscode-notebook-cell:/Users/dhende63/exploratoryAnalysis/Untitled-1.ipynb#ch0000000?line=34'>35</a>\u001b[0m df\u001b[39m.\u001b[39mdescribe()\n\u001b[0;32m---> <a href='vscode-notebook-cell:/Users/dhende63/exploratoryAnalysis/Untitled-1.ipynb#ch0000000?line=36'>37</a>\u001b[0m df[features]\u001b[39m.\u001b[39mdescribe()\n",
      "\u001b[0;31mNameError\u001b[0m: name 'features' is not defined"
     ]
    }
   ],
   "source": [
    "import numpy as np\n",
    "import pandas as pd\n",
    "import matplotlib.pyplot as plt\n",
    "import seaborn as sns\n",
    "\n",
    "%config InlineBacked.figure_format ='png'\n",
    "\n",
    "pd.set_option(\"display.precision\", 2)\n",
    "\n",
    "df = pd.read_csv(\"/Users/dhende63/Downloads/Queue Depth-data-as-seriestocolumns-2021-03-25 13_53_04.csv\")\n",
    "#df.head()\n",
    "\n",
    "#print(df.shape)\n",
    "#print(df.columns)\n",
    "#print(df.info())\n",
    "\n",
    "\n",
    "\n",
    "\n",
    "df.apply(np.max)\n",
    "\n",
    "#sns.countplot(x=\"Time\", hue=\"QDEPTH: HIE.CONN_ADT_A01_TOPIC_DEST, WMQC136\", data=df);\n",
    "\n",
    "#features = [\"Time\", \"QDEPTH: HIE.CONN_ADT_A01_TOPIC_DEST, WMQC136\"]\n",
    "#df[features].hist(figsize=(10,4));\n",
    "\n",
    "#sns.jointplot(x=\"Time\", y=\"QDEPTH: HIE.CONN_ADT_A01_TOPIC_DEST, WMQC136\", data=df, kind=\"scatter\");\n",
    "\n",
    "#sns.displot(df[\"QDEPTH: HIE.CONN_ADT_A01_TOPIC_DEST, WMQC136\"]);\n",
    "\n",
    "#sns.boxplot(x=\"QDEPTH: HIE.CONN_ADT_A01_TOPIC_DEST, WMQC136\", data=df);\n",
    "\n",
    "\n",
    "\n",
    "df.describe()\n",
    "\n",
    "#df[features].describe()\n",
    "#df[\"Time\"] = df[\"Time\"].astype(\"int64\")\n",
    "\n",
    "#pd.crosstab(df)\n",
    "\n",
    "\n",
    "#sns.pairplot(df);\n",
    "\n"
   ]
  }
 ],
 "metadata": {
  "interpreter": {
   "hash": "b0fa6594d8f4cbf19f97940f81e996739fb7646882a419484c72d19e05852a7e"
  },
  "kernelspec": {
   "display_name": "Python 3.9.12 64-bit",
   "language": "python",
   "name": "python3"
  },
  "language_info": {
   "codemirror_mode": {
    "name": "ipython",
    "version": 3
   },
   "file_extension": ".py",
   "mimetype": "text/x-python",
   "name": "python",
   "nbconvert_exporter": "python",
   "pygments_lexer": "ipython3",
   "version": "3.9.12"
  },
  "orig_nbformat": 4
 },
 "nbformat": 4,
 "nbformat_minor": 2
}
